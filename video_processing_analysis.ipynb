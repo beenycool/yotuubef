{
 "cells": [
  {
   "cell_type": "markdown",
   "metadata": {},
   "source": [
    "# Video Processing Analysis\\n",
    "Notebook for processing and analyzing video metrics"
   ]
  },
  {
   "cell_type": "code",
   "execution_count": null,
   "metadata": {},
   "outputs": [],
   "source": [
    "#@title Setup\\n",
    "# Mount Google Drive\\n",
    "from google.colab import drive\\n",
    "drive.mount('/content/drive')\\n",
    "\\n",
    "# Install dependencies\\n",
    "!pip install -r /content/drive/MyDrive/yotuube/requirements.txt\\n",
    "\\n",
    "from video_processor import VideoProcessor\\n",
    "import matplotlib.pyplot as plt\\n",
    "import numpy as np\\n",
    "import yaml\\n",
    "import os\\n",
    "\\n",
    "# Load config from Drive\\n",
    "with open('/content/drive/MyDrive/yotuube/config.yaml') as f:\\n",
    "    cfg = yaml.safe_load(f)\\n",
    "\\n",
    "# Initialize processor with Colab paths\\n",
    "vp = VideoProcessor(\\n",
    "    watermark_path='/content/drive/MyDrive/yotuube/watermark.png',\\n",
    "    music_dir='/content/drive/MyDrive/yotuube/music/',\\n",
    "    temp_dir='/content/temp',\\n",
    "    **cfg['processing']\\n",
    ")\\n",
    "\\n",
    "# Create temp directory\\n",
    "!mkdir -p /content/temp"
   ]
  },
  {
   "cell_type": "markdown",
   "metadata": {},
   "source": [
    "## Processing Demo\\n",
    "Example video processing pipeline:"
   ]
  },
  {
   "cell_type": "code",
   "execution_count": null,
   "metadata": {},
   "outputs": [],
   "source": [
    "#@title Run Processing\\n",
    "input_path = 'input.mp4'  # @param {type: \"string\"}\\n",
    "output_path = 'processed.mp4'  # @param {type: \"string\"}\\n",
    "\\n",
    "metrics = vp.process_video(input_path, output_path)\\n",
    "print(f\"Processing completed. Metrics: {metrics}\")"
   ]
  },
  {
   "cell_type": "markdown",
   "metadata": {},
   "source": [
    "## Metrics Visualization"
   ]
  },
  {
   "cell_type": "code",
   "execution_count": null,
   "metadata": {},
   "outputs": [],
   "source": [
    "#@title Plot Metrics\\n",
    "fig, ax = plt.subplots()\\n",
    "ax.bar(['Encoding', 'Watermark', 'Audio Mix'], \\n",
    "       [metrics['encode_time'], metrics['watermark_time'], metrics['audio_time']])\\n",
    "ax.set_ylabel('Time (s)')\\n",
    "plt.show()"
   ]
  }
 ],
 "metadata": {
  "colab": {
   "provenance": []
  },
  "kernelspec": {
   "display_name": "Python 3",
   "name": "python3"
  }
 },
 "nbformat": 4,
 "nbformat_minor": 0
}