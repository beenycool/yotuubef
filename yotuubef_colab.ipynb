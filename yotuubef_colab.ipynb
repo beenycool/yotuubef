{
 "cells": [
  {
   "cell_type": "markdown",
   "metadata": {
    "id": "view-in-github"
   },
   "source": [
    "# Yotuubef Colab Notebook\n",
    "This notebook clones the yotuubef repository, installs dependencies, and runs the script with GPU acceleration (T4)."
   ]
  },
  {
   "cell_type": "markdown",
   "metadata": {
    "id": "one-click-instructions"
   },
   "source": [
    "## One-Click Setup\n",
    "1. **Run all cells** (Runtime > Run all)\n",
    "2. When prompted, upload a single `.env` file containing:\n",
    "   ```\n",
    "   # YouTube API\n",
    "   YOUTUBE_CLIENT_ID=\"your_youtube_client_id\"\n",
    "   YOUTUBE_CLIENT_SECRET=\"your_youtube_client_secret\"\n",
    "   YOUTUBE_PROJECT_ID=\"your_youtube_project_id\"\n",
    "   \n",
    "   # Reddit API\n",
    "   REDDIT_CLIENT_ID=\"your_reddit_id\"\n",
    "   REDDIT_CLIENT_SECRET=\"your_reddit_secret\"\n",
    "   \n",
    "   # Gemini API\n",
    "   GEMINI_API_KEY=\"your_gemini_key\"\n",
    "   ```\n",
    "3. The script will automatically:\n",
    "   - Generate credentials.json from the .env file\n",
    "   - Set all environment variables\n",
    "   - Authenticate with YouTube\n",
    "   - Process videos\n",
    "   - Upload to YouTube\n",
    "\n",
    "> **Note**: Get API keys from:\n",
    "> - YouTube: https://console.cloud.google.com/apis/credentials\n",
    "> - Reddit: https://www.reddit.com/prefs/apps\n",
    "> - Gemini: https://aistudio.google.com/app/apikey"
   ]
  },
  {
   "cell_type": "code",
   "execution_count": null,
   "metadata": {
    "id": "setup-gpu"
   },
   "outputs": [],
   "source": [
    "# Set up T4 GPU\n",
    "!nvidia-smi --query-gpu=name --format=csv,noheader"
   ]
  },
  {
   "cell_type": "code",
   "execution_count": null,
   "metadata": {
    "id": "clone-repo"
   },
   "outputs": [],
   "source": [
    "# Clone repository\n",
    "!git clone https://github.com/beenycool/yotuubef\n",
    "%cd yotuubef"
   ]
  },
  {
   "cell_type": "code",
   "execution_count": null,
   "metadata": {
    "id": "install-deps"
   },
   "outputs": [],
   "source": [
    "# Install dependencies\n",
    "!pip install -r requirements.txt"
   ]
  },
  {
   "cell_type": "code",
   "execution_count": null,
   "metadata": {
    "id": "upload-secrets"
   },
   "outputs": [],
   "source": [
    "# Upload unified .env file\n",
    "from google.colab import files\n",
    "import os\n",
    "import json\n",
    "import shutil\n",
    "from datetime import datetime\n",
    "\n",
    "# Create secure_files directory\n",
    "if not os.path.exists('secure_files'):\n",
    "    os.makedirs('secure_files')\n",
    "\n",
    "# Upload .env file\n",
    "uploaded = files.upload()\n",
    "env_uploaded = False\n",
    "\n",
    "for filename in uploaded.keys():\n",
    "    # Only process .env files\n",
    "    if filename.endswith('.env'):\n",
    "        # Move to secure_files\n",
    "        shutil.move(filename, f'secure_files/{filename}')\n",
    "        print(f\"Uploaded: {filename}\")\n",
    "        env_uploaded = True\n",
    "        \n",
    "        # Load environment variables\n",
    "        with open(f'secure_files/{filename}') as f:\n",
    "            for line in f:\n",
    "                if line.strip() and not line.startswith('#'):\n",
    "                    key, value = line.strip().split('=', 1)\n",
    "                    os.environ[key] = value.strip('\"')\n",
    "        \n",
    "        # Create token file if YouTube credentials exist\n",
    "        if all(k in os.environ for k in ['YOUTUBE_TOKEN', 'YOUTUBE_REFRESH_TOKEN']):\n",
    "            token_data = {\n",
    "                \"token\": os.environ['YOUTUBE_TOKEN'],\n",
    "                \"refresh_token\": os.environ['YOUTUBE_REFRESH_TOKEN'],\n",
    "                \"token_uri\": os.environ.get('YOUTUBE_TOKEN_URI', 'https://oauth2.googleapis.com/token'),\n",
    "                \"client_id\": os.environ['YOUTUBE_CLIENT_ID'],\n",
    "                \"client_secret\": os.environ['YOUTUBE_CLIENT_SECRET'],\n",
    "                \"scopes\": os.environ.get('YOUTUBE_SCOPES', '').split(','),\n",
    "                \"expiry\": os.environ.get('YOUTUBE_EXPIRY', datetime.utcnow().isoformat())\n",
    "            }\n",
    "            \n",
    "            with open('secure_files/youtube_token.json', 'w') as f:\n",
    "                json.dump(token_data, f, indent=2)\n",
    "            os.environ['YOUTUBE_TOKEN_FILE'] = 'secure_files/youtube_token.json'\n",
    "            print(\"YouTube token configured\")\n",
    "        \n",
    "        # Automate OAuth flow\n",
    "        print(\"Starting YouTube authentication...\")\n",
    "        !python -c \"from script import setup_api_clients; setup_api_clients()\"\n",
    "        print(\"YouTube authentication complete!\")\n",
    "        \n",
    "        # Copy .env to root for dotenv\n",
    "        shutil.copy(f'secure_files/{filename}', '.env')\n",
    "        print(\"Environment variables configured\")\n",
    "        \n",
    "        break\n",
    "\n",
    "if not env_uploaded:\n",
    "    print(\"Warning: No .env file uploaded. The script may not work properly\")"
   ]
  },
  {
   "cell_type": "code",
   "execution_count": null,
   "metadata": {
    "id": "run-script"
   },
   "outputs": [],
   "source": [
    "# Run main script\n",
    "!python script.py"
   ]
  }
 ],
 "metadata": {
  "colab": {
   "provenance": []
  },
  "kernelspec": {
   "display_name": "Python 3",
   "language": "python",
   "name": "python3"
  },
  "language_info": {
   "codemirror_mode": {
    "name": "ipython",
    "version": 3
   },
   "file_extension": ".py",
   "mimetype": "text/x-python",
   "name": "python",
   "nbconvert_exporter": "python",
   "pygments_lexer": "ipython3",
   "version": "3.10.12"
  }
 },
 "nbformat": 4,
 "nbformat_minor": 0
}