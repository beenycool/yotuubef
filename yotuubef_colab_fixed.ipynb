{
 "cells": [
  {
   "cell_type": "markdown",
   "metadata": {
    "id": "title"
   },
   "source": [
    "# Yotuubef - YouTube Automation with Enhanced Error Handling\n",
    "\n",
    "This notebook clones the yotuubef repository, installs dependencies, and runs the script with GPU acceleration (T4) and enhanced error handling for Reddit downloads and YouTube authentication.\n",
    "\n",
    "## Features\n",
    "- ✅ Enhanced Reddit video downloading with 403 error mitigation\n",
    "- ✅ Improved YouTube authentication for Colab\n",
    "- ✅ Better error handling and retry logic\n",
    "- ✅ GPU acceleration support\n",
    "\n",
    "## One-Click Setup\n",
    "\n",
    "1. **Run all cells** (Runtime > Run all)\n",
    "2. Upload your `.env` file when prompted\n",
    "3. The script will automatically handle authentication and processing\n",
    "\n",
    "> **Note**: Get API keys from:\n",
    "> - YouTube: https://console.cloud.google.com/apis/credentials\n",
    "> - Reddit: https://www.reddit.com/prefs/apps\n",
    "> - Gemini: https://aistudio.google.com/app/apikey"
   ]
  },
  {
   "cell_type": "code",
   "execution_count": null,
   "metadata": {
    "id": "check-gpu"
   },
   "outputs": [],
   "source": [
    "# Check GPU availability\n",
    "!nvidia-smi --query-gpu=name --format=csv,noheader\n",
    "print(\"GPU check complete!\")"
   ]
  },
  {
   "cell_type": "code",
   "execution_count": null,
   "metadata": {
    "id": "clone-repo"
   },
   "outputs": [],
   "source": [
    "# Clone repository\n",
    "!git clone https://github.com/beenycool/yotuubef\n",
    "%cd yotuubef\n",
    "print(\"Repository cloned successfully!\")"
   ]
  },
  {
   "cell_type": "code",
   "execution_count": null,
   "metadata": {
    "id": "install-deps"
   },
   "outputs": [],
   "source": [
    "# Install dependencies\n",
    "!pip install -r requirements.txt\n",
    "print(\"Dependencies installed!\")"
   ]
  },
  {
   "cell_type": "code",
   "execution_count": null,
   "metadata": {
    "id": "upload-env"
   },
   "outputs": [],
   "source": [
    "# Upload and configure environment\n",
    "from google.colab import files\n",
    "import os\n",
    "import json\n",
    "import shutil\n",
    "from datetime import datetime\n",
    "\n",
    "# Create secure_files directory\n",
    "if not os.path.exists('secure_files'):\n",
    "    os.makedirs('secure_files')\n",
    "\n",
    "print(\"Please upload your .env file:\")\n",
    "uploaded = files.upload()\n",
    "env_uploaded = False\n",
    "\n",
    "for filename in uploaded.keys():\n",
    "    if filename.endswith('.env'):\n",
    "        # Move to secure_files\n",
    "        shutil.move(filename, f'secure_files/{filename}')\n",
    "        print(f\"✅ Uploaded: {filename}\")\n",
    "        env_uploaded = True\n",
    "        \n",
    "        # Load environment variables\n",
    "        with open(f'secure_files/{filename}') as f:\n",
    "            for line in f:\n",
    "                if line.strip() and not line.startswith('#') and '=' in line:\n",
    "                    key, value = line.strip().split('=', 1)\n",
    "                    os.environ[key] = value.strip('\"\\'')\n",
    "        \n",
    "        # Create YouTube token file from YOUTUBE_TOKEN_JSON if available\n",
    "        if 'YOUTUBE_TOKEN_JSON' in os.environ:\n",
    "            try:\n",
    "                token_data = json.loads(os.environ['YOUTUBE_TOKEN_JSON'])\n",
    "                with open('secure_files/youtube_token.json', 'w') as f:\n",
    "                    json.dump(token_data, f, indent=2)\n",
    "                os.environ['YOUTUBE_TOKEN_FILE'] = 'secure_files/youtube_token.json'\n",
    "                print(\"✅ YouTube token configured from environment\")\n",
    "            except Exception as e:\n",
    "                print(f\"⚠️ Error creating YouTube token: {e}\")\n",
    "        \n",
    "        # Copy .env to root for dotenv\n",
    "        shutil.copy(f'secure_files/{filename}', '.env')\n",
    "        print(\"✅ Environment variables configured\")\n",
    "        break\n",
    "\n",
    "if not env_uploaded:\n",
    "    print(\"❌ Warning: No .env file uploaded. The script may not work properly\")\n",
    "else:\n",
    "    print(\"🚀 Setup complete! Ready to run the script.\")"
   ]
  },
  {
   "cell_type": "code",
   "execution_count": null,
   "metadata": {
    "id": "test-auth"
   },
   "outputs": [],
   "source": [
    "# Test authentication and setup\n",
    "print(\"Testing YouTube authentication...\")\n",
    "try:\n",
    "    # Try the new auth script first\n",
    "    !python auth_youtube.py\n",
    "    print(\"✅ YouTube authentication successful!\")\n",
    "except Exception as auth_error:\n",
    "    print(f\"⚠️ Auth script error: {auth_error}\")\n",
    "    print(\"Trying fallback authentication...\")\n",
    "    try:\n",
    "        !python -c \"from script import setup_api_clients; reddit_ok, youtube_ok, gemini_ok = setup_api_clients(); print(f'Reddit: {reddit_ok}, YouTube: {youtube_ok}, Gemini: {gemini_ok}')\"\n",
    "        print(\"✅ Fallback authentication completed!\")\n",
    "    except Exception as fallback_error:\n",
    "        print(f\"❌ Fallback authentication failed: {fallback_error}\")\n",
    "\n",
    "print(\"\\n🔧 Running system diagnostics...\")\n",
    "!python -c \"from script import validate_environment, check_ffmpeg_install; validate_environment(); print('FFmpeg:', check_ffmpeg_install('ffmpeg')); print('FFprobe:', check_ffmpeg_install('ffprobe'))\""
   ]
  },
  {
   "cell_type": "code",
   "execution_count": null,
   "metadata": {
    "id": "run-script"
   },
   "outputs": [],
   "source": [
    "# Run main script with enhanced error handling\n",
    "print(\"🎬 Starting YouTube automation...\")\n",
    "print(\"This will continuously process Reddit videos and upload to YouTube.\")\n",
    "print(\"Press Ctrl+C to stop.\\n\")\n",
    "\n",
    "try:\n",
    "    !python script.py\n",
    "except KeyboardInterrupt:\n",
    "    print(\"\\n⏹️ Script stopped by user.\")\n",
    "except Exception as e:\n",
    "    print(f\"\\n❌ Script error: {e}\")\n",
    "    print(\"\\n📊 Running diagnostics...\")\n",
    "    !python diagnostic.py\n",
    "    \n",
    "print(\"\\n✅ Session complete!\")"
   ]
  },
  {
   "cell_type": "markdown",
   "metadata": {
    "id": "troubleshooting"
   },
   "source": [
    "## Troubleshooting\n",
    "\n",
    "### Common Issues & Solutions\n",
    "\n",
    "#### Reddit 403 Blocked Errors\n",
    "- ✅ **Fixed**: Enhanced downloader with user-agent rotation and retry logic\n",
    "- The script now automatically retries with different user agents\n",
    "\n",
    "#### YouTube Authentication Errors\n",
    "- ✅ **Fixed**: Improved token handling for Colab environment\n",
    "- Make sure your `.env` file contains valid `YOUTUBE_TOKEN_JSON`\n",
    "\n",
    "#### Memory Issues\n",
    "- Use GPU acceleration when available\n",
    "- The script includes automatic cleanup\n",
    "\n",
    "#### FFmpeg Not Found\n",
    "- Colab includes FFmpeg by default\n",
    "- Check diagnostics output above\n",
    "\n",
    "### Getting API Keys\n",
    "\n",
    "1. **YouTube API**:\n",
    "   - Go to [Google Cloud Console](https://console.cloud.google.com/)\n",
    "   - Create a project and enable YouTube Data API v3\n",
    "   - Create OAuth 2.0 credentials\n",
    "\n",
    "2. **Reddit API**:\n",
    "   - Go to [Reddit App Preferences](https://www.reddit.com/prefs/apps)\n",
    "   - Create a new app (script type)\n",
    "   - Note the client ID and secret\n",
    "\n",
    "3. **Gemini API**:\n",
    "   - Go to [Google AI Studio](https://aistudio.google.com/app/apikey)\n",
    "   - Create a new API key\n",
    "\n",
    "### .env File Format\n",
    "```\n",
    "# Reddit API\n",
    "REDDIT_CLIENT_ID=\"your_reddit_client_id\"\n",
    "REDDIT_CLIENT_SECRET=\"your_reddit_client_secret\"\n",
    "REDDIT_USER_AGENT=\"python:VideoBot:v1.6 (by /u/YOUR_USERNAME)\"\n",
    "\n",
    "# YouTube API\n",
    "GOOGLE_CLIENT_SECRETS_FILE=\"client_secret_xxx.json\"\n",
    "YOUTUBE_TOKEN_FILE=\"youtube_token.json\"\n",
    "YOUTUBE_TOKEN_JSON='{\"token\": \"...\", \"refresh_token\": \"...\", ...}'\n",
    "\n",
    "# Gemini API\n",
    "GEMINI_API_KEY=\"your_gemini_api_key\"\n",
    "```"
   ]
  }
 ],
 "metadata": {
  "colab": {
   "provenance": [],
   "gpuType": "T4"
  },
  "kernelspec": {
   "display_name": "Python 3",
   "language": "python",
   "name": "python3"
  },
  "language_info": {
   "codemirror_mode": {
    "name": "ipython",
    "version": 3
   },
   "file_extension": ".py",
   "mimetype": "text/x-python",
   "name": "python",
   "nbconvert_exporter": "python",
   "pygments_lexer": "ipython3",
   "version": "3.10.12"
  },
  "accelerator": "GPU"
 },
 "nbformat": 4,
 "nbformat_minor": 0
}