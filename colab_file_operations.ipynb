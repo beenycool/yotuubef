{
 "cells": [
  {
   "cell_type": "markdown",
   "id": "c4ba9e76",
   "metadata": {},
   "source": [
    "# Reddit Video Processor for YouTube - Google Colab\n",
    "\n",
    "This notebook allows you to run your Reddit video processing pipeline in the Google Colab environment. It handles all the necessary setup, dependency installation, and file operations to process and upload videos from Reddit to YouTube."
   ]
  },
  {
   "cell_type": "markdown",
   "id": "8bd2eded",
   "metadata": {},
   "source": [
    "## 1. Setup Environment\n",
    "\n",
    "First, we'll install all the necessary dependencies required by your video processing script."
   ]
  },
  {
   "cell_type": "code",
   "execution_count": null,
   "id": "01b3e547",
   "metadata": {},
   "outputs": [],
   "source": [
    "# Install necessary packages\n",
    "!apt-get update\n",
    "!apt-get install -y ffmpeg imagemagick\n",
    "\n",
    "# Install Python packages\n",
    "!pip install -q yt-dlp moviepy praw numpy pillow google-api-python-client google-auth-oauthlib google-auth-httplib2 psutil google-generativeai elevenlabs joblib opencv-python scikit-learn"
   ]
  },
  {
   "cell_type": "markdown",
   "id": "b5096fd6",
   "metadata": {},
   "source": [
    "### Configure ImageMagick Policy\n",
    "\n",
    "MoviePy requires ImageMagick for text generation, so we need to modify the ImageMagick policy to allow these operations in the Colab environment."
   ]
  },
  {
   "cell_type": "code",
   "execution_count": null,
   "id": "fba0f9ca",
   "metadata": {},
   "outputs": [],
   "source": [
    "# Configure ImageMagick to allow text operations\n",
    "!sed -i 's/rights=\"none\" pattern=\"PS\"/rights=\"read|write\" pattern=\"PS\"/' /etc/ImageMagick-6/policy.xml\n",
    "!sed -i 's/rights=\"none\" pattern=\"PDF\"/rights=\"read|write\" pattern=\"PDF\"/' /etc/ImageMagick-6/policy.xml\n",
    "!sed -i 's/rights=\"none\" pattern=\"XPS\"/rights=\"read|write\" pattern=\"XPS\"/' /etc/ImageMagick-6/policy.xml\n",
    "\n",
    "print(\"ImageMagick policy configured for text operations.\")"
   ]
  },
  {
   "cell_type": "markdown",
   "id": "0baf4d86",
   "metadata": {},
   "source": [
    "## 2. Upload Project Files\n",
    "\n",
    "Upload your project files from your local machine to Google Colab."
   ]
  },
  {
   "cell_type": "code",
   "execution_count": null,
   "id": "2729b491",
   "metadata": {},
   "outputs": [],
   "source": [
    "from google.colab import files\n",
    "import os\n",
    "import shutil\n",
    "import pathlib\n",
    "\n",
    "# Create project directories\n",
    "os.makedirs(\"music\", exist_ok=True)\n",
    "os.makedirs(\"temp_processing\", exist_ok=True)\n",
    "\n",
    "# Upload core Python files\n",
    "print(\"Please upload script.py and video_processor.py files:\")\n",
    "uploaded = files.upload()\n",
    "\n",
    "for filename in uploaded.keys():\n",
    "    print(f\"Uploaded: {filename}\")"
   ]
  },
  {
   "cell_type": "markdown",
   "id": "2326f037",
   "metadata": {},
   "source": [
    "### Upload Music Files\n",
    "\n",
    "Upload the music files for your video processing pipeline."
   ]
  },
  {
   "cell_type": "code",
   "execution_count": null,
   "id": "77d64f73",
   "metadata": {},
   "outputs": [],
   "source": [
    "print(\"Please upload the music files from your local 'music' folder:\")\n",
    "uploaded_music = files.upload()\n",
    "\n",
    "# Move music files to the music directory\n",
    "for filename in uploaded_music.keys():\n",
    "    shutil.move(filename, os.path.join(\"music\", filename))\n",
    "    print(f\"Moved {filename} to music folder\")\n",
    "\n",
    "# List the music files\n",
    "print(\"\\nMusic files available:\")\n",
    "!ls -la music/"
   ]
  },
  {
   "cell_type": "markdown",
   "id": "8f1e1e7d",
   "metadata": {},
   "source": [
    "### Upload Watermark (Optional)\n",
    "\n",
    "If you use a watermark in your videos, upload it here."
   ]
  },
  {
   "cell_type": "code",
   "execution_count": null,
   "id": "6567d3b5",
   "metadata": {},
   "outputs": [],
   "source": [
    "print(\"Please upload the watermark.png file (if you have one):\")\n",
    "uploaded_watermark = files.upload()\n",
    "\n",
    "for filename in uploaded_watermark.keys():\n",
    "    print(f\"Uploaded: {filename}\")"
   ]
  },
  {
   "cell_type": "markdown",
   "id": "5cd365f7",
   "metadata": {},
   "source": [
    "### Upload Google Client Secrets\n",
    "\n",
    "Upload your Google client secrets JSON file for YouTube API authentication."
   ]
  },
  {
   "cell_type": "code",
   "execution_count": null,
   "id": "0358647c",
   "metadata": {},
   "outputs": [],
   "source": [
    "print(\"Please upload your Google client secrets JSON file:\")\n",
    "uploaded_secrets = files.upload()\n",
    "\n",
    "client_secrets_file = \"\"\n",
    "for filename in uploaded_secrets.keys():\n",
    "    if \"client_secret\" in filename and filename.endswith(\".json\"):\n",
    "        client_secrets_file = filename\n",
    "        print(f\"Using {filename} as client secrets file\")\n",
    "        break\n",
    "\n",
    "if not client_secrets_file:\n",
    "    print(\"WARNING: Client secrets file not detected. YouTube uploads won't work without this.\")"
   ]
  },
  {
   "cell_type": "markdown",
   "id": "8e70e4f0",
   "metadata": {},
   "source": [
    "## 3. Configure API Keys & Environment Variables\n",
    "\n",
    "Set up the necessary API keys and environment variables for the script to run."
   ]
  },
  {
   "cell_type": "code",
   "execution_count": null,
   "id": "0cf59bf6",
   "metadata": {},
   "outputs": [],
   "source": [
    "import os\n",
    "\n",
    "# Reddit API Credentials\n",
    "reddit_client_id = input(\"Enter your Reddit Client ID: \")\n",
    "reddit_client_secret = input(\"Enter your Reddit Client Secret: \")\n",
    "reddit_user_agent = input(\"Enter your Reddit User Agent (or press Enter for default): \") or \"python:VideoBot:v1.5 (by /u/YOUR_USERNAME)\"\n",
    "\n",
    "# Gemini API Key\n",
    "gemini_api_key = input(\"Enter your Google Gemini API Key: \")\n",
    "\n",
    "# ElevenLabs API Key (optional)\n",
    "elevenlabs_api_key = input(\"Enter your ElevenLabs API Key (or press Enter to skip): \")\n",
    "\n",
    "# Set environment variables\n",
    "os.environ[\"REDDIT_CLIENT_ID\"] = reddit_client_id\n",
    "os.environ[\"REDDIT_CLIENT_SECRET\"] = reddit_client_secret\n",
    "os.environ[\"REDDIT_USER_AGENT\"] = reddit_user_agent\n",
    "os.environ[\"GEMINI_API_KEY\"] = gemini_api_key\n",
    "os.environ[\"GOOGLE_CLIENT_SECRETS_FILE\"] = client_secrets_file if client_secrets_file else \"\"\n",
    "\n",
    "if elevenlabs_api_key:\n",
    "    os.environ[\"ELEVENLABS_API_KEY\"] = elevenlabs_api_key\n",
    "\n",
    "print(\"\\nEnvironment variables set successfully!\")"
   ]
  },
  {
   "cell_type": "markdown",
   "id": "089164be",
   "metadata": {},
   "source": [
    "## 4. Run the Script\n",
    "\n",
    "Now we'll run the script with your selected subreddits and options."
   ]
  },
  {
   "cell_type": "code",
   "execution_count": null,
   "id": "bf7c9d68",
   "metadata": {},
   "outputs": [],
   "source": [
    "# Get user input for subreddits and options\n",
    "subreddits_input = input(\"Enter subreddit name(s) separated by spaces (e.g., 'nextfuckinglevel PublicFreakout'): \")\n",
    "max_videos = input(\"Enter maximum number of videos to process per subreddit (default: 3): \") or \"3\"\n",
    "skip_upload = input(\"Skip uploading to YouTube? (y/n, default: y): \").lower() or \"y\"\n",
    "\n",
    "# Build command\n",
    "skip_upload_flag = \"--skip_upload\" if skip_upload == \"y\" else \"\"\n",
    "command = f\"python script.py {subreddits_input} --max_videos {max_videos} {skip_upload_flag}\"\n",
    "\n",
    "print(f\"\\nExecuting: {command}\")\n",
    "!{command}"
   ]
  },
  {
   "cell_type": "markdown",
   "id": "172d9e1b",
   "metadata": {},
   "source": [
    "## 5. Download Processed Videos\n",
    "\n",
    "If you've created videos and want to download them to your local machine, you can do that here."
   ]
  },
  {
   "cell_type": "code",
   "execution_count": null,
   "id": "cd4c5ecf",
   "metadata": {},
   "outputs": [],
   "source": [
    "import glob\n",
    "from google.colab import files\n",
    "\n",
    "# Find output videos\n",
    "output_videos = glob.glob(\"temp_processing/*_final.mp4\")\n",
    "\n",
    "if output_videos:\n",
    "    print(f\"Found {len(output_videos)} processed videos:\")\n",
    "    for video in output_videos:\n",
    "        print(f\"- {os.path.basename(video)}\")\n",
    "    \n",
    "    download_choice = input(\"\\nDo you want to download these videos? (y/n): \").lower()\n",
    "    if download_choice == \"y\":\n",
    "        for video in output_videos:\n",
    "            try:\n",
    "                print(f\"Downloading {os.path.basename(video)}...\")\n",
    "                files.download(video)\n",
    "            except Exception as e:\n",
    "                print(f\"Error downloading {video}: {e}\")\n",
    "else:\n",
    "    print(\"No processed videos found in the temp_processing directory.\")"
   ]
  },
  {
   "cell_type": "markdown",
   "id": "a9d5c1c7",
   "metadata": {},
   "source": [
    "## 6. Clean Up\n",
    "\n",
    "Optionally clean up temporary files to free up space."
   ]
  },
  {
   "cell_type": "code",
   "execution_count": null,
   "id": "106ffbd4",
   "metadata": {},
   "outputs": [],
   "source": [
    "import shutil\n",
    "\n",
    "cleanup = input(\"Do you want to clean up temporary files? (y/n): \").lower()\n",
    "if cleanup == \"y\":\n",
    "    try:\n",
    "        files_removed = 0\n",
    "        if os.path.exists(\"temp_processing\"):\n",
    "            for file in glob.glob(\"temp_processing/*\"):\n",
    "                if not file.endswith(\"_final.mp4\"):  # Keep final videos\n",
    "                    os.remove(file)\n",
    "                    files_removed += 1\n",
    "        print(f\"Removed {files_removed} temporary files.\")\n",
    "    except Exception as e:\n",
    "        print(f\"Error during cleanup: {e}\")"
   ]
  },
  {
   "cell_type": "markdown",
   "id": "67b0e890",
   "metadata": {},
   "source": [
    "## Troubleshooting Guide\n",
    "\n",
    "If you encounter issues running the script in Colab, here are some common solutions:\n",
    "\n",
    "1. **Memory Issues**: If you get out-of-memory errors, try:\n",
    "   - Restart the runtime and rerun with fewer videos\n",
    "   - Upgrade to Colab Pro for more memory\n",
    "\n",
    "2. **GPU Acceleration**: To enable GPU acceleration:\n",
    "   - Go to Runtime → Change runtime type → Select GPU as Hardware accelerator\n",
    "\n",
    "3. **Authentication Issues**: For YouTube API authentication:\n",
    "   - Make sure your client_secrets.json is properly uploaded\n",
    "   - Follow the authentication link that appears in the output\n",
    "\n",
    "4. **Missing Dependencies**: If you get module not found errors:\n",
    "   - Rerun the dependency installation cell\n",
    "   - Check for specific error messages and install the missing package\n",
    "\n",
    "5. **File Permissions**: If you get permission errors:\n",
    "   - Ensure the ImageMagick policy configuration was successful\n",
    "   - Try running with simpler parameters (disable some features)"
   ]
  }
 ],
 "metadata": {
  "language_info": {
   "name": "python"
  }
 },
 "nbformat": 4,
 "nbformat_minor": 5
}
