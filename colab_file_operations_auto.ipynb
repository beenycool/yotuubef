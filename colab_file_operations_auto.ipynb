Reddit Video Processor for YouTube - Google Colab (Enhanced)

This notebook handles setup, dependency installation, asset management,
configuration, and execution of the Reddit video processing pipeline,
optimized for Google Colab's T4 GPU environment.
"""

# ==============================================================================
# CELL 1: Environment Setup & GPU Check
# ==============================================================================
import torch
import os
import subprocess
import sys
from google.colab import files, drive
import shutil
import pathlib
import glob
import json
import yaml
from getpass import getpass
import psutil

print("--- 1. Setting up Environment & Checking GPU ---")

# Check for GPU availability
gpu_available = torch.cuda.is_available()
FFMPEG_GPU_PARAMS = {} # Default to CPU parameters

if gpu_available:
    gpu_model = torch.cuda.get_device_name(0)
    print(f"✅ GPU detected: {gpu_model}")
    try:
        gpu_info = subprocess.check_output(['nvidia-smi', '-L'], text=True).strip()
        print(f"   GPU Details: {gpu_info}")
    except Exception as e:
        print(f"   Could not get detailed GPU info via nvidia-smi: {e}")
    print(f"   CUDA Version: {torch.version.cuda}")

    # Configure for T4 GPU optimization
    os.environ["PYTORCH_CUDA_ALLOC_CONF"] = "max_split_size_mb:512"
    print("   Optimized memory allocation for T4 GPU.")

    # Check for NVENC support (essential for ffmpeg GPU encoding)
    try:
        ffmpeg_codecs = subprocess.check_output(['ffmpeg', '-codecs'], text=True)
        if 'h264_nvenc' in ffmpeg_codecs:
            print("✅ NVENC (NVIDIA Encoder) supported by FFmpeg.")
            FFMPEG_GPU_PARAMS = {'codec': 'h264_nvenc', 'preset': 'fast', 'threads': 0}
        else:
            print("⚠️ NVENC not found in FFmpeg codecs. Will use CPU encoding (libx264).")
            FFMPEG_GPU_PARAMS = {'codec': 'libx264', 'preset': 'medium', 'threads': 4} # Fallback
    except Exception as e:
        print(f"   Could not check FFmpeg codecs: {e}. Assuming CPU encoding.")
        FFMPEG_GPU_PARAMS = {'codec': 'libx264', 'preset': 'medium', 'threads': 4} # Fallback

    # Show available GPU memory
    try:
        memory_info = subprocess.check_output(
            ['nvidia-smi', '--query-gpu=memory.total,memory.free', '--format=csv,noheader,nounits'],
            text=True
        ).strip().split(',')
        print(f"   GPU Memory: Total={memory_info[0]} MiB, Free={memory_info[1]} MiB")
    except Exception as e:
         print(f"   Could not get GPU memory info via nvidia-smi: {e}")

else:
    print("⚠️ No GPU detected. Running in CPU mode.")
    print("   For faster processing, enable GPU in Runtime -> Change runtime type.")
    FFMPEG_GPU_PARAMS = {'codec': 'libx264', 'preset': 'medium', 'threads': 4}

# Ensure MoviePy uses the correct parameters (pass them during write_videofile)
print(f"   FFmpeg parameters set to: {FFMPEG_GPU_PARAMS}")

# Check CPU and RAM
cpu_count = psutil.cpu_count()
ram_total_gb = psutil.virtual_memory().total / (1024**3)
print(f"   CPU Cores: {cpu_count}")
print(f"   RAM Total: {ram_total_gb:.2f} GB")
print("-" * 40)


# ==============================================================================
# CELL 2: Mount Google Drive (Optional but Recommended)
# ==============================================================================
print("--- 2. Google Drive Mounting (Optional) ---")
use_drive = input("Mount Google Drive for persistent storage/assets? (y/n, default: n): ").lower() == 'y'
drive_mount_point = "/content/drive/MyDrive"
project_drive_folder = "RedditVideoProject" # CHANGE THIS if you use a different folder name in Drive
drive_base_path = pathlib.Path(drive_mount_point) / project_drive_folder
repo_path_in_drive = drive_base_path / "yotuubef" # Expected repo location in Drive

if use_drive:
    try:
        drive.mount(drive_mount_point, force_remount=True)
        print(f"✅ Google Drive mounted successfully at {drive_mount_point}")
        # Create the project base folder if it doesn't exist
        drive_base_path.mkdir(parents=True, exist_ok=True)
        print(f"   Project assets will be looked for/saved in: {drive_base_path}")
    except Exception as e:
        print(f"❌ Failed to mount Google Drive: {e}")
        use_drive = False
else:
    print("   Skipping Google Drive mount. Files will be stored ephemerally in Colab.")
print("-" * 40)


# ==============================================================================
# CELL 3: Clone Repository & Install Dependencies
# ==============================================================================
print("--- 3. Cloning Repository & Installing Dependencies ---")
repo_name = "yotuubef"
colab_repo_path = pathlib.Path(f"/content/{repo_name}")
target_repo_path = repo_path_in_drive if use_drive and repo_path_in_drive.exists() else colab_repo_path

# Decide whether to clone or use existing Drive version
if use_drive and target_repo_path.exists():
    print(f"🔄 Using existing repository found in Google Drive: {target_repo_path}")
    # Optional: Pull latest changes if desired
    # print("   Attempting to pull latest changes...")
    # %cd {target_repo_path}
    # !git pull
    # %cd /content # Change back to default Colab directory
elif colab_repo_path.exists():
     print(f"🔄 Using existing repository found in Colab session: {colab_repo_path}")
     # Optional: Pull latest changes if desired
     # print("   Attempting to pull latest changes...")
     # %cd {colab_repo_path}
     # !git pull
     # %cd /content # Change back to default Colab directory
else:
    print(f"Cloning repository into Colab session: {colab_repo_path}")
    # Clone into Colab first, then optionally copy to Drive
    clone_url = "https://github.com/beenycool/yotuubef.git" # Replace if needed
    !git clone {clone_url} {colab_repo_path}
    if not colab_repo_path.exists():
        sys.exit("❌ Failed to clone the repository. Please check the URL and permissions.")

    if use_drive:
        print(f"   Copying cloned repository to Google Drive: {repo_path_in_drive}")
        try:
            shutil.copytree(colab_repo_path, repo_path_in_drive, dirs_exist_ok=True)
            target_repo_path = repo_path_in_drive # Update target path
        except Exception as e:
            print(f"   ⚠️ Warning: Failed to copy repo to Drive: {e}. Using Colab session version.")
            target_repo_path = colab_repo_path # Fallback to Colab path

# Change directory to the target repository path
print(f"📂 Setting working directory to: {target_repo_path}")
os.chdir(target_repo_path) # IMPORTANT: Set working directory

# --- Dependency Installation ---
print("\nInstalling system packages (ffmpeg, imagemagick)...")
# Use -qq for quieter output
!apt-get update -qq
!apt-get install -y -qq ffmpeg imagemagick

print("Installing Python packages...")
# Combine pip installs for efficiency, use -q for quieter output
# Pin versions for reproducibility (optional but recommended)
# Example: !pip install -q moviepy==1.0.3 praw==7.7.1 ...
pip_packages = [
    "yt-dlp", "moviepy", "praw", "numpy", "pillow",
    "google-api-python-client", "google-auth-oauthlib", "google-auth-httplib2",
    "psutil", "google-generativeai", "elevenlabs", "joblib",
    "opencv-python-headless", "scikit-learn", "pyyaml"
]
# Install base packages
!pip install -q {" ".join(pip_packages)}

# Install torch with CUDA support if GPU is available
if gpu_available:
    print("Installing PyTorch with CUDA support...")
    !pip install -q torch torchvision --extra-index-url https://download.pytorch.org/whl/cu118 # Adjust cuXXX if needed for Colab version
else:
    print("Installing PyTorch (CPU version)...")
    !pip install -q torch torchvision

# --- ImageMagick Configuration ---
# (This is often needed in Colab to allow MoviePy text rendering)
print("Configuring ImageMagick policy...")
policy_file = "/etc/ImageMagick-6/policy.xml"
if os.path.exists(policy_file):
    try:
        !sed -i 's/rights="none" pattern="PS"/rights="read|write" pattern="PS"/' {policy_file}
        !sed -i 's/rights="none" pattern="PDF"/rights="read|write" pattern="PDF"/' {policy_file}
        !sed -i 's/rights="none" pattern="XPS"/rights="read|write" pattern="XPS"/' {policy_file}
        !sed -i 's/rights="none" pattern="LABEL"/rights="read|write" pattern="LABEL"/' {policy_file} # Often needed too
        !sed -i 's/rights="none" pattern="TEXT"/rights="read|write" pattern="TEXT"/' {policy_file} # Might be needed
        print("✅ ImageMagick policy updated.")
    except Exception as e:
        print(f"   ⚠️ Warning: Could not modify ImageMagick policy file: {e}")
else:
    print(f"   ⚠️ Warning: ImageMagick policy file not found at {policy_file}. Text rendering might fail.")

# --- Create Project Directories ---
print("Creating necessary directories (music, temp_processing)...")
pathlib.Path("music").mkdir(exist_ok=True)
pathlib.Path("temp_processing").mkdir(exist_ok=True)

# --- Verify Required Files ---
print("Verifying essential script files...")
required_files = ['script.py', 'video_processor.py', 'config.yaml']
missing_files = [file for file in required_files if not pathlib.Path(file).exists()]
if missing_files:
    sys.exit(f"❌ Missing essential files in repository ({target_repo_path}): {', '.join(missing_files)}. Cannot proceed.")

print("✅ Environment setup complete.")
print("-" * 40)


# ==============================================================================
# CELL 4: Handle Project Assets (Music, Watermark, Client Secrets)
# ==============================================================================
print("--- 4. Managing Project Assets ---")

# Define potential asset locations
colab_asset_path = target_repo_path # Assets inside the repo clone
drive_asset_path = drive_base_path if use_drive else None # Assets in the main project folder on Drive

# Helper function to find an asset
def find_asset(filename, file_description, extensions=None):
    """Checks Drive (if enabled) then Colab repo for an asset."""
    if extensions is None:
        extensions = [pathlib.Path(filename).suffix] # Use filename's extension if none provided

    # 1. Check Google Drive project folder first (if enabled)
    if drive_asset_path:
        for ext in extensions:
            potential_path = drive_asset_path / f"{pathlib.Path(filename).stem}{ext}"
            if potential_path.is_file():
                print(f"✅ Found {file_description} in Google Drive: {potential_path}")
                # Copy to working directory if not already there
                if target_repo_path != drive_asset_path:
                   dest_path = target_repo_path / potential_path.name
                   if not dest_path.exists() or dest_path.stat().st_mtime < potential_path.stat().st_mtime:
                       print(f"   Copying {potential_path.name} to working directory...")
                       shutil.copy2(potential_path, dest_path)
                   else:
                       print(f"   {potential_path.name} already up-to-date in working directory.")

                return potential_path.name # Return the filename found
        print(f"   {file_description} not found in Google Drive project folder ({drive_asset_path}).")

    # 2. Check Colab repository folder
    for ext in extensions:
         potential_path = colab_asset_path / f"{pathlib.Path(filename).stem}{ext}"
         if potential_path.is_file():
             print(f"✅ Found {file_description} in Colab repository: {potential_path}")
             return potential_path.name # Return the filename found

    print(f"   {file_description} not found in Colab repository folder ({colab_asset_path}).")
    return None

# Helper function to upload a file if needed
def upload_asset_if_needed(found_file, filename, file_description, target_dir=".", required=False):
    """Prompts for upload if asset wasn't found."""
    if found_file:
        return found_file # Return the name of the file already found

    print(f"\n📤 {file_description} ('{filename}') was not found.")
    if not required:
        skip = input(f"   Upload this file now? (y/n, Enter to skip): ").lower()
        if skip != 'y':
             print(f"   Skipping {file_description} upload.")
             return None
    else:
        print(f"   This file is required. Please upload '{filename}':")

    try:
        uploaded = files.upload()
        if not uploaded:
            if required:
                sys.exit(f"❌ Required file '{filename}' was not uploaded. Cannot proceed.")
            else:
                 print(f"   No file uploaded for {file_description}.")
                 return None

        uploaded_filename = list(uploaded.keys())[0]
        target_path = pathlib.Path(target_dir) / filename # Ensure correct target name
        shutil.move(uploaded_filename, target_path)
        print(f"   Successfully uploaded and saved as '{target_path}'")

        # If using Drive, offer to copy the uploaded asset there for persistence
        if drive_asset_path and target_repo_path != drive_asset_path:
            copy_to_drive = input(f"   Copy '{filename}' to Google Drive project folder ({drive_asset_path}) for future use? (y/n): ").lower() == 'y'
            if copy_to_drive:
                drive_dest = drive_asset_path / filename
                try:
                     shutil.copy2(target_path, drive_dest)
                     print(f"   Copied '{filename}' to {drive_dest}")
                except Exception as e:
                     print(f"   ⚠️ Warning: Failed to copy {filename} to Drive: {e}")

        return filename # Return the standardized filename

    except Exception as e:
        print(f"   ❌ Error during upload for {filename}: {e}")
        if required:
             sys.exit(f"❌ Failed to get required file '{filename}'. Cannot proceed.")
        return None


# --- Handle Music ---
music_dir = target_repo_path / "music"
print(f"\nChecking for music files in '{music_dir}'...")
existing_music = list(music_dir.glob("*.mp3")) + list(music_dir.glob("*.wav")) + list(music_dir.glob("*.m4a"))

if existing_music:
    print(f"✅ Found {len(existing_music)} music files in the repository/working directory:")
    for f in existing_music[:5]: print(f"  - {f.name}") # Show first 5
    if len(existing_music) > 5: print("  ...")
else:
    print(f"   No music files found in '{music_dir}'.")
    print("   Please upload at least one background music file (.mp3, .wav, .m4a):")
    try:
        uploaded_music = files.upload()
        if not uploaded_music:
            print("   ⚠️ Warning: No music uploaded. Background music might be disabled.")
        else:
            for filename, content in uploaded_music.items():
                dest_path = music_dir / filename
                with open(dest_path, 'wb') as f:
                    f.write(content)
                print(f"   Saved '{filename}' to '{music_dir}'")
                # Optionally copy to Drive music folder
                if drive_asset_path and target_repo_path != drive_asset_path:
                    drive_music_dir = drive_asset_path / "music"
                    drive_music_dir.mkdir(exist_ok=True)
                    drive_dest = drive_music_dir / filename
                    copy_to_drive = input(f"   Copy '{filename}' to Google Drive ({drive_dest})? (y/n): ").lower() == 'y'
                    if copy_to_drive:
                        try:
                            shutil.copy2(dest_path, drive_dest)
                            print(f"   Copied '{filename}' to Drive.")
                        except Exception as e:
                            print(f"   ⚠️ Warning: Failed to copy {filename} to Drive: {e}")

    except Exception as e:
        print(f"   ❌ Error uploading music: {e}")


# --- Handle Watermark ---
print("\nChecking for watermark...")
# Look for watermark.png specifically
found_watermark = find_asset("watermark.png", "Watermark image", extensions=[".png"])
watermark_file = upload_asset_if_needed(found_watermark, "watermark.png", "Watermark image", target_dir=target_repo_path, required=False)
if watermark_file:
    print(f"   Using watermark: {watermark_file}")
else:
    print("   Proceeding without a watermark.")


# --- Handle Google Client Secrets ---
print("\nChecking for Google API Client Secrets...")
# Look for any client_secret*.json file
found_secrets = None
potential_secret_files = list(drive_base_path.glob("client_secret*.json")) if drive_asset_path else []
potential_secret_files += list(colab_asset_path.glob("client_secret*.json"))

if potential_secret_files:
     found_secrets = potential_secret_files[0].name # Use the first one found
     print(f"✅ Found potential client secrets file: {found_secrets}")
     # Ensure it's copied to the working directory if needed
     if pathlib.Path(found_secrets).parent != target_repo_path:
          src_path = potential_secret_files[0]
          dest_path = target_repo_path / found_secrets
          if not dest_path.exists() or dest_path.stat().st_mtime < src_path.stat().st_mtime:
             print(f"   Copying {found_secrets} to working directory...")
             shutil.copy2(src_path, dest_path)

# Upload if not found - Treat as required *if* YouTube upload is intended later
# We will check again before running the script if upload is selected.
# For now, just get the filename if the user uploads it.
client_secrets_file = upload_asset_if_needed(found_secrets, "client_secrets.json", "Google Client Secrets JSON", target_dir=target_repo_path, required=False)
# The actual requirement check happens in the execution cell based on user choice.

print("-" * 40)


# ==============================================================================
# CELL 5: Configure API Keys & Environment Variables
# ==============================================================================
print("--- 5. Configuring API Keys ---")

# Function to load credentials from a JSON file in the working directory
def load_credentials_from_local_file(filename="credentials.json"):
    creds_path = target_repo_path / filename
    if not creds_path.exists():
        print(f"   '{filename}' not found in working directory ({target_repo_path}).")
        use_file = input(f"   Upload '{filename}' now? (y/n): ").lower() == 'y'
        if not use_file:
            return None
        try:
            uploaded = files.upload()
            if not uploaded:
                print("   No file uploaded.")
                return None
            uploaded_filename = list(uploaded.keys())[0]
            # Ensure it's saved with the correct name in the working dir
            shutil.move(uploaded_filename, creds_path)
            print(f"   Uploaded and saved as '{creds_path}'")
            # Optionally copy to Drive
            if drive_asset_path and target_repo_path != drive_asset_path:
                 copy_to_drive = input(f"   Copy '{filename}' to Google Drive project folder ({drive_asset_path})? (y/n): ").lower() == 'y'
                 if copy_to_drive:
                    drive_dest = drive_asset_path / filename
                    try:
                        shutil.copy2(creds_path, drive_dest)
                        print(f"   Copied '{filename}' to {drive_dest}")
                    except Exception as e:
                        print(f"   ⚠️ Warning: Failed to copy {filename} to Drive: {e}")

        except Exception as e:
            print(f"   Error uploading {filename}: {e}")
            return None

    # Now try to load the file
    try:
        with open(creds_path, 'r') as f:
            creds = json.load(f)
        print(f"✅ Successfully loaded credentials from '{creds_path}'")
        return creds
    except json.JSONDecodeError:
        print(f"❌ Error: '{creds_path}' is not a valid JSON file.")
        return None
    except Exception as e:
        print(f"❌ Error loading credentials file '{creds_path}': {e}")
        return None

# --- Get Credentials ---
creds = load_credentials_from_local_file() # Try loading credentials.json first

def get_credential(creds_dict, service_key, cred_key, prompt_text, is_secret=True, default=None):
    """Helper to get credential from dict or prompt securely."""
    if creds_dict and service_key in creds_dict and cred_key in creds_dict[service_key]:
        value = creds_dict[service_key][cred_key]
        print(f"   Loaded {prompt_text} from credentials file.")
        return value
    else:
        env_var = f"{service_key.upper()}_{cred_key.upper()}"
        if is_secret:
            return os.environ.get(env_var) or getpass(f"Enter your {prompt_text}: ") or default
        else:
            return os.environ.get(env_var) or input(f"Enter your {prompt_text}: ") or default

# Reddit API Credentials
reddit_client_id = get_credential(creds, "reddit", "client_id", "Reddit Client ID")
reddit_client_secret = get_credential(creds, "reddit", "client_secret", "Reddit Client Secret")
default_user_agent = "python:ColabVideoBot:v1.6 (by /u/YOUR_USERNAME)" # Make user agent more specific
reddit_user_agent = get_credential(creds, "reddit", "user_agent", f"Reddit User Agent (Enter for default: '{default_user_agent}')", is_secret=False, default=default_user_agent)

# Gemini API Key
gemini_api_key = get_credential(creds, "gemini", "api_key", "Google Gemini API Key")

# ElevenLabs API Key (Optional)
elevenlabs_api_key = get_credential(creds, "elevenlabs", "api_key", "ElevenLabs API Key (Enter to skip)", default="")

# --- Set Environment Variables ---
print("\nSetting environment variables...")
os.environ["REDDIT_CLIENT_ID"] = reddit_client_id or ""
os.environ["REDDIT_CLIENT_SECRET"] = reddit_client_secret or ""
os.environ["REDDIT_USER_AGENT"] = reddit_user_agent or ""
os.environ["GEMINI_API_KEY"] = gemini_api_key or ""
# Pass the *name* of the client secrets file, script.py will handle the path
os.environ["GOOGLE_CLIENT_SECRETS_FILE"] = client_secrets_file or ""

missing_vars = []
if not os.environ["REDDIT_CLIENT_ID"]: missing_vars.append("Reddit Client ID")
if not os.environ["REDDIT_CLIENT_SECRET"]: missing_vars.append("Reddit Client Secret")
if not os.environ["GEMINI_API_KEY"]: missing_vars.append("Gemini API Key")
# Client secrets checked later based on upload choice

if missing_vars:
    print(f"   ⚠️ WARNING: Missing essential API keys: {', '.join(missing_vars)}. Relevant features may fail.")

if elevenlabs_api_key:
    os.environ["ELEVENLABS_API_KEY"] = elevenlabs_api_key
    print("   ElevenLabs API Key set.")
else:
     # Ensure it's not set if empty
    if "ELEVENLABS_API_KEY" in os.environ: del os.environ["ELEVENLABS_API_KEY"]
    print("   ElevenLabs API Key not set (skipped).")

# --- Display Summary (Masked) ---
def mask_string(s, visible_chars=3):
    if not s: return "<not set>"
    s_len = len(s)
    if s_len <= visible_chars * 2: return "*" * s_len
    return s[:visible_chars] + "*" * (s_len - visible_chars * 2) + s[-visible_chars:]

print("\nCredentials summary (values masked):")
print(f"  Reddit Client ID:     {mask_string(os.environ.get('REDDIT_CLIENT_ID', ''))}")
print(f"  Reddit Client Secret: {mask_string(os.environ.get('REDDIT_CLIENT_SECRET', ''))}")
print(f"  Reddit User Agent:    {os.environ.get('REDDIT_USER_AGENT', '<not set>')}") # Not secret
print(f"  Gemini API Key:       {mask_string(os.environ.get('GEMINI_API_KEY', ''))}")
print(f"  ElevenLabs API Key:   {mask_string(os.environ.get('ELEVENLABS_API_KEY', ''))}")
print(f"  Google Client Secrets:{'<not set>' if not client_secrets_file else 'Loaded from ' + client_secrets_file}")

print("-" * 40)

# ==============================================================================
# CELL 6: Configure Script Options & Load Config.yaml
# ==============================================================================
print("--- 6. Configuring Script Execution ---")

# --- Load config.yaml ---
config_file_path = target_repo_path / 'config.yaml'
config = {}
if config_file_path.exists():
    try:
        with open(config_file_path, 'r') as f:
            config = yaml.safe_load(f)
        print(f"✅ Loaded configuration from '{config_file_path}'")
    except Exception as e:
        print(f"⚠️ Warning: Could not load or parse '{config_file_path}': {e}. Using defaults.")
else:
    print(f"⚠️ Warning: '{config_file_path}' not found. Using defaults.")

# --- Get Subreddits ---
subreddits = config.get('subreddits', [])
if not subreddits:
    print("\nNo subreddits found in config.yaml.")
    subreddits_input = input("Enter subreddit names separated by spaces (e.g., AskReddit interestingasfuck): ")
    subreddits = [s.strip() for s in subreddits_input.split() if s.strip()]
    if not subreddits:
         sys.exit("❌ No subreddits provided. Cannot proceed.")
else:
     print(f"   Using subreddits from config: {', '.join(subreddits)}")

# --- Get User Options ---
try:
    default_max_videos = config.get('max_videos_per_run', 3)
    max_videos_input = input(f"Enter max videos per subreddit (default: {default_max_videos}): ")
    max_videos = int(max_videos_input) if max_videos_input.isdigit() else default_max_videos
except ValueError:
    print(f"Invalid input, using default max_videos: {default_max_videos}")
    max_videos = default_max_videos

default_upload = config.get('upload_to_youtube', False)
upload_choice_input = input(f"Upload to YouTube? (y/n, default: {'y' if default_upload else 'n'}): ").lower()
upload_choice = upload_choice_input == 'y' if upload_choice_input else default_upload

# --- Final Check for Client Secrets if Uploading ---
if upload_choice and not client_secrets_file:
    print("\n⚠️ YouTube upload selected, but Google Client Secrets file is missing.")
    client_secrets_file = upload_asset_if_needed(None, "client_secrets.json", "Google Client Secrets JSON", target_dir=target_repo_path, required=True)
    if client_secrets_file:
         os.environ["GOOGLE_CLIENT_SECRETS_FILE"] = client_secrets_file
    else:
         # This case should be handled by sys.exit in upload_asset_if_needed if required=True
         print("❌ Cannot proceed with YouTube upload without client secrets.")
         upload_choice = False # Disable upload if secrets still missing

print(f"\nConfiguration:")
print(f"  Subreddits: {', '.join(subreddits)}")
print(f"  Max Videos per Sub: {max_videos}")
print(f"  Upload to YouTube: {'Yes' if upload_choice else 'No'}")
print(f"  GPU Acceleration: {'Enabled' if gpu_available else 'Disabled (CPU only)'}")
print(f"  Using Repository Path: {target_repo_path}")
print("-" * 40)

# ==============================================================================
# CELL 7: Run the Main Script
# ==============================================================================
print("--- 7. Running the Video Processing Script ---")

# --- Build Command ---
# Ensure we are in the correct directory before running the script
os.chdir(target_repo_path)

script_command = ["python", "script.py"]
script_command.extend(subreddits)
script_command.append(f"--max_videos={max_videos}")

if not upload_choice:
    script_command.append("--skip_upload")

# Add GPU flag if available and NVENC is supported (or other GPU encoder)
if gpu_available and FFMPEG_GPU_PARAMS.get('codec') != 'libx264':
    script_command.append("--use_gpu")
    print("   Running with --use_gpu flag.")
else:
     print("   Running without --use_gpu flag (CPU encoding or NVENC unavailable).")

# Consider adding other relevant flags from your script.py if needed
# e.g., --batch_size, --min_duration, etc.
# Example: script_command.append(f"--batch_size={config.get('batch_size', 8)}")

command_str = " ".join(script_command)
print(f"\nExecuting command:\n{command_str}\n")

# --- Execute Script ---
# Using subprocess for better control and output handling
try:
    process = subprocess.Popen(command_str, shell=True, stdout=subprocess.PIPE, stderr=subprocess.STDOUT, text=True, bufsize=1, universal_newlines=True)

    while True:
        line = process.stdout.readline()
        if not line and process.poll() is not None:
            break
        if line:
            print(line.strip()) # Print script output in real-time

    return_code = process.poll()
    if return_code == 0:
        print("\n✅ Script finished successfully.")
    else:
        print(f"\n❌ Script finished with error code: {return_code}")

except Exception as e:
    print(f"\n❌ An error occurred while running the script: {e}")
    import traceback
    traceback.print_exc()

finally:
    # Ensure we change back to a safe directory if needed, though os.chdir was used
    os.chdir("/content")
    print("-" * 40)


# ==============================================================================
# CELL 8: Handle Output Videos & Download
# ==============================================================================
print("--- 8. Handling Output Videos ---")

# Change back to the repo directory to find outputs
os.chdir(target_repo_path)
output_dir = target_repo_path / "temp_processing"
output_videos = list(output_dir.glob("*_final.mp4"))

if output_videos:
    print(f"✅ Found {len(output_videos)} processed videos in '{output_dir}':")
    for video in output_videos:
        print(f"  - {video.name} ({video.stat().st_size / (1024*1024):.2f} MB)")

    # Offer download
    download_choice = input("\nDownload these processed videos? (y/n): ").lower() == 'y'
    if download_choice:
        print("Starting downloads...")
        for video in output_videos:
            try:
                print(f"  Downloading {video.name}...")
                files.download(str(video))
            except Exception as e:
                print(f"  ❌ Error downloading {video.name}: {e}")
        print("Downloads initiated.")
    else:
        print("Skipping downloads.")

    # Offer copy to Drive (if Drive is mounted and different from repo path)
    if drive_asset_path and target_repo_path != drive_asset_path:
        drive_output_dir = drive_base_path / "Processed_Videos" # Save to a dedicated folder
        drive_output_dir.mkdir(exist_ok=True)
        copy_to_drive = input(f"\nCopy processed videos to Google Drive ('{drive_output_dir}')? (y/n): ").lower() == 'y'
        if copy_to_drive:
            print(f"Copying videos to {drive_output_dir}...")
            copied_count = 0
            for video in output_videos:
                try:
                    dest = drive_output_dir / video.name
                    shutil.copy2(video, dest)
                    copied_count += 1
                except Exception as e:
                    print(f"  ❌ Error copying {video.name} to Drive: {e}")
            print(f"  Copied {copied_count}/{len(output_videos)} videos to Google Drive.")

else:
    print(f"⚠️ No processed videos (*_final.mp4) found in '{output_dir}'.")

# Change back to /content
os.chdir("/content")
print("-" * 40)


# ==============================================================================
# CELL 9: Cleanup Temporary Files
# ==============================================================================
print("--- 9. Cleanup ---")
os.chdir(target_repo_path) # Go back to repo path for cleanup

cleanup_choice = input("Clean up temporary processing files (non-final videos in 'temp_processing')? (y/n): ").lower() == 'y'

if cleanup_choice:
    temp_dir = target_repo_path / "temp_processing"
    files_removed = 0
    bytes_removed = 0
    if temp_dir.is_dir():
        for item in temp_dir.iterdir():
            # Remove anything that isn't a final video
            if item.is_file() and not item.name.endswith("_final.mp4"):
                 try:
                    size = item.stat().st_size
                    item.unlink()
                    files_removed += 1
                    bytes_removed += size
                 except Exception as e:
                     print(f"  Error removing {item.name}: {e}")
    print(f"🧹 Removed {files_removed} temporary files ({(bytes_removed / (1024*1024)):.2f} MB) from '{temp_dir}'.")
else:
    print("Skipping cleanup of temporary files.")

# Optional: Offer to remove the entire cloned repo from Colab session (if not using Drive)
if not use_drive and colab_repo_path.exists():
     remove_repo = input(f"\nRemove the cloned repository '{colab_repo_path}' from this Colab session? (y/n): ").lower() == 'y'
     if remove_repo:
          print(f"Removing {colab_repo_path}...")
          shutil.rmtree(colab_repo_path)
          print("  Repository removed from Colab session.")

os.chdir("/content") # Back to safety
print("-" * 40)
print("🏁 Colab Notebook Execution Finished 🏁")


# ==============================================================================
# CELL 10: Troubleshooting Guide
# ==============================================================================
"""
## Troubleshooting Guide

If you encounter issues running the script in Colab, here are some common solutions:

1.  **Memory Issues (RAM or GPU VRAM)**:
    *   **Error Message:** `OutOfMemoryError`, `CUDA out of memory`, `Killed` signal during processing.
    *   **Solutions:**
        *   **Restart Runtime:** Go to `Runtime -> Restart session`. This clears memory.
        *   **Reduce `max_videos`:** Process fewer videos per run in Cell 6.
        *   **Reduce Video Complexity:** If your `script.py` allows, reduce resolution, frame rate, or disable complex effects.
        *   **Check `config.yaml`:** Ensure settings like `max_clip_duration` are reasonable.
        *   **Upgrade Colab:** Consider Colab Pro/Pro+ for more RAM and better GPU access.
        *   **Monitor:** Keep an eye on the RAM/GPU usage displayed top-right in Colab.

2.  **GPU Not Detected or Not Used:**
    *   **Symptom:** Cell 1 says "No GPU detected", or processing is very slow and Cell 7 doesn't mention `--use_gpu`.
    *   **Solutions:**
        *   **Enable GPU Runtime:** Go to `Runtime -> Change runtime type -> Hardware accelerator -> GPU -> T4 GPU`. Restart the session if needed.
        *   **Rerun Cell 1:** After changing runtime, rerun Cell 1 to confirm detection.
        *   **Check FFmpeg Codecs (Cell 1 Output):** Ensure `h264_nvenc` (or similar GPU codec) is listed. If not, GPU *encoding* might not work even if PyTorch uses the GPU for other tasks. Processing might fall back to CPU encoding (`libx264`).

3.  **`yt-dlp` Download Failures:**
    *   **Error Message:** Timeout errors, "Unable to download video data", 0-byte files created.
    *   **Solutions:**
        *   **Check Reddit URL:** Ensure the submission URL in Reddit is valid and the video is accessible.
        *   **Colab Network:** Colab's network can sometimes be slow or blocked. Try restarting the runtime or running later.
        *   **`yt-dlp` Updates:** Although installed fresh, sometimes running `!pip install -U yt-dlp` can help if there was a very recent site change on Reddit's side.
        *   **Increase Timeout (Advanced):** You could modify `_prepare_initial_video` in `video_processor.py` to have a longer timeout, but 60s is usually generous.

4.  **Authentication Issues (YouTube Upload):**
    *   **Symptom:** Script asks for authentication via a URL, but fails after granting access, or errors related to `client_secrets.json`.
    *   **Solutions:**
        *   **Correct File:** Ensure you uploaded the *correct* `client_secrets.json` downloaded from Google Cloud Console for an **OAuth 2.0 Client ID** of type **Desktop application**. Web application secrets won't work directly this way.
        *   **File Location:** Make sure the `client_secrets.json` file is in the main repository directory (`/content/yotuubef` or your Drive equivalent) when Cell 7 runs.
        *   **Follow Auth Link:** Carefully copy the entire URL provided during the run, paste it into your browser, grant access with the correct Google account, and copy the resulting code back into the Colab input prompt.
        *   **Token File:** Delete any existing `token.json` or similar credential files in your repository directory if you suspect corruption, and let the script generate a new one via the auth flow.

5.  **ImageMagick / Text Rendering Errors:**
    *   **Error Message:** Errors related to `convert`, `policy.xml`, `coder not found`, `TextClip` failures.
    *   **Solutions:**
        *   **Rerun Cell 3:** Ensure the ImageMagick policy update commands ran without error. Sometimes Colab environments are inconsistent.
        *   **Check Font:** Ensure the fonts specified in `TEXT_STYLES` (in `video_processor.py` or config) are available or use standard ones like "Arial", "Impact", "Liberation-Sans". Colab has a limited set by default. You might need to install fonts if using custom ones.

6.  **File Not Found Errors:**
    *   **Symptom:** Script fails saying it can't find `config.yaml`, `script.py`, music files, etc.
    *   **Solution:**
        *   **Working Directory:** Ensure Cell 3 correctly changed the working directory (`os.chdir`) to your repository path (`target_repo_path`). All subsequent file operations assume this directory. Check the output of Cell 3 carefully.
        *   **Google Drive Path:** If using Drive, double-check your `project_drive_folder` name and the path structure. Ensure files exist where the script expects them (`drive_base_path`).
        *   **Case Sensitivity:** Linux (used by Colab) is case-sensitive. `config.yaml` is different from `Config.yaml`.

7.  **General Slowness:**
    *   **Check Runtime:** Ensure GPU is enabled (T4).
    *   **Colab Usage Limits:** Free tier Colab has usage limits. Performance can degrade if you've used it heavily. Try restarting or waiting.
    *   **Input Video Size:** Processing very long or high-resolution source videos will naturally take longer.

