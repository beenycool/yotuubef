{
 "cells": [
  {
   "cell_type": "markdown",
   "metadata": {},
   "source": [
    "# Reddit Video Processor for YouTube - Google Colab\n",
    "\n",
    "This notebook allows you to run your Reddit video processing pipeline in the Google Colab environment. It handles all the necessary setup, dependency installation, and file operations to process and upload videos from Reddit to YouTube."
   ]
  },
  {
   "cell_type": "markdown",
   "metadata": {},
   "source": [
    "## 1. Setup Environment\n",
    "\n",
    "First, we'll install all the necessary dependencies required by your video processing script."
   ]
  },
  {
   "cell_type": "code",
   "execution_count": null,
   "metadata": {},
   "outputs": [],
   "source": [
    "# Clone the GitHub repository\n",
    "!git clone https://github.com/beenycool/yotuubef\n",
    "%cd yotuubef\n",
    "\n",
    "# Install necessary packages\n",
    "!apt-get update\n",
    "!apt-get install -y ffmpeg imagemagick\n",
    "\n",
    "# Install Python packages\n",
    "!pip install -q yt-dlp moviepy praw numpy pillow google-api-python-client google-auth-oauthlib google-auth-httplib2 psutil google-generativeai elevenlabs joblib opencv-python scikit-learn pyyaml"
   ]
  },
  {
   "cell_type": "markdown",
   "metadata": {},
   "source": [
    "### Configure ImageMagick Policy\n",
    "\n",
    "MoviePy requires ImageMagick for text generation, so we need to modify the ImageMagick policy to allow these operations in the Colab environment."
   ]
  },
  {
   "cell_type": "code",
   "execution_count": null,
   "metadata": {},
   "outputs": [],
   "source": [
    "# Configure ImageMagick to allow text operations\n",
    "!sed -i 's/rights=\"none\" pattern=\"PS\"/rights=\"read|write\" pattern=\"PS\"/' /etc/ImageMagick-6/policy.xml\n",
    "!sed -i 's/rights=\"none\" pattern=\"PDF\"/rights=\"read|write\" pattern=\"PDF\"/' /etc/ImageMagick-6/policy.xml\n",
    "!sed -i 's/rights=\"none\" pattern=\"XPS\"/rights=\"read|write\" pattern=\"XPS\"/' /etc/ImageMagick-6/policy.xml\n",
    "\n",
    "print(\"ImageMagick policy configured for text operations.\")"
   ]
  },
  {
   "cell_type": "markdown",
   "metadata": {},
   "source": [
    "## 2. Upload Project Files\n",
    "\n",
    "Upload your project files from your local machine to Google Colab."
   ]
  },
  {
   "cell_type": "code",
   "execution_count": null,
   "metadata": {},
   "outputs": [],
   "source": [
    "from google.colab import files\n",
    "import os\n",
    "import shutil\n",
    "import pathlib\n",
    "\n",
    "# Create project directories\n",
    "os.makedirs(\"music\", exist_ok=True)\n",
    "os.makedirs(\"temp_processing\", exist_ok=True)\n",
    "\n",
    "# Verify required files exist in cloned repo\n",
    "required_files = ['script.py', 'video_processor.py', 'config.yaml']\n",
    "missing_files = []\n",
    "\n",
    "for file in required_files:\n",
    "    if not os.path.exists(file):\n",
    "        missing_files.append(file)\n",
    "\n",
    "if missing_files:\n",
    "    raise FileNotFoundError(f\"Missing required files in repository: {', '.join(missing_files)}\")\n",
    "\n",
    "print(\"All required files found in repository\")"
   ]
  },
  {
   "cell_type": "markdown",
   "metadata": {},
   "source": [
    "### Upload Music Files\n",
    "\n",
    "Upload the music files for your video processing pipeline."
   ]
  },
  {
   "cell_type": "code",
   "execution_count": null,
   "metadata": {},
   "outputs": [],
   "source": [
    "print(\"Please upload the music files from your local 'music' folder:\")\n",
    "uploaded_music = files.upload()\n",
    "\n",
    "# Move music files to the music directory\n",
    "for filename in uploaded_music.keys():\n",
    "    shutil.move(filename, os.path.join(\"music\", filename))\n",
    "    print(f\"Moved {filename} to music folder\")\n",
    "\n",
    "# List the music files\n",
    "print(\"\\nMusic files available:\")\n",
    "!ls -la music/"
   ]
  },
  {
   "cell_type": "markdown",
   "metadata": {},
   "source": [
    "### Upload Watermark (Optional)\n",
    "\n",
    "If you use a watermark in your videos, upload it here."
   ]
  },
  {
   "cell_type": "code",
   "execution_count": null,
   "metadata": {},
   "outputs": [],
   "source": [
    "print(\"Please upload the watermark.png file (if you have one):\")\n",
    "uploaded_watermark = files.upload()\n",
    "\n",
    "for filename in uploaded_watermark.keys():\n",
    "    print(f\"Uploaded: {filename}\")"
   ]
  },
  {
   "cell_type": "markdown",
   "metadata": {},
   "source": [
    "### Upload Google Client Secrets\n",
    "\n",
    "Upload your Google client secrets JSON file for YouTube API authentication."
   ]
  },
  {
   "cell_type": "code",
   "execution_count": null,
   "metadata": {},
   "outputs": [],
   "source": [
    "# Google Client Secrets (One-time setup)\n",
    "print(\"For YouTube uploads, you need to upload your client_secrets.json file.\")\n",
    "print(\"This only needs to be done once per Colab session.\")\n",
    "print(\"The file will be saved in Colab's temporary storage.\")\n",
    "\n",
    "if not os.path.exists(\"client_secrets.json\"):\n",
    "    print(\"\\nPlease upload your client_secrets.json file:\")\n",
    "    uploaded_secrets = files.upload()\n",
    "    \n",
    "    client_secrets_file = \"\"\n",
    "    for filename in uploaded_secrets.keys():\n",
    "        if \"client_secret\" in filename and filename.endswith(\".json\"):\n",
    "            client_secrets_file = filename\n",
    "            print(f\"Saved {filename} for this session\")\n",
    "            break\n",
    "    \n",
    "    if not client_secrets_file:\n",
    "        print(\"WARNING: No valid client_secrets.json uploaded. YouTube uploads disabled.\")\n",
    "else:\n",
    "    print(\"\\nUsing existing client_secrets.json from previous upload\")\n",
    "    client_secrets_file = \"client_secrets.json\""
   ]
  },
  {
   "cell_type": "markdown",
   "metadata": {},
   "source": [
    "## 3. Configure API Keys & Environment Variables\n",
    "\n",
    "Set up the necessary API keys and environment variables for the script to run."
   ]
  },
  {
   "cell_type": "code",
   "execution_count": null,
   "metadata": {},
   "outputs": [],
   "source": [
    "import os\n",
    "\n",
    "# Reddit API Credentials\n",
    "reddit_client_id = input(\"Enter your Reddit Client ID: \")\n",
    "reddit_client_secret = input(\"Enter your Reddit Client Secret: \")\n",
    "reddit_user_agent = input(\"Enter your Reddit User Agent (or press Enter for default): \") or \"python:VideoBot:v1.5 (by /u/YOUR_USERNAME)\"\n",
    "\n",
    "# Gemini API Key\n",
    "gemini_api_key = input(\"Enter your Google Gemini API Key: \")\n",
    "\n",
    "# ElevenLabs API Key (optional)\n",
    "elevenlabs_api_key = input(\"Enter your ElevenLabs API Key (or press Enter to skip): \")\n",
    "\n",
    "# Set environment variables\n",
    "os.environ[\"REDDIT_CLIENT_ID\"] = reddit_client_id\n",
    "os.environ[\"REDDIT_CLIENT_SECRET\"] = reddit_client_secret\n",
    "os.environ[\"REDDIT_USER_AGENT\"] = reddit_user_agent\n",
    "os.environ[\"GEMINI_API_KEY\"] = gemini_api_key\n",
    "os.environ[\"GOOGLE_CLIENT_SECRETS_FILE\"] = client_secrets_file if client_secrets_file else \"\"\n",
    "\n",
    "if elevenlabs_api_key:\n",
    "    os.environ[\"ELEVENLABS_API_KEY\"] = elevenlabs_api_key\n",
    "\n",
    "print(\"\\nEnvironment variables set successfully!\")"
   ]
  },
  {
   "cell_type": "markdown",
   "metadata": {},
   "source": [
    "## 4. Run the Script\n",
    "\n",
    "Now we'll run the script with subreddits from config.yaml"
   ]
  },
  {
   "cell_type": "code",
   "execution_count": null,
   "metadata": {},
   "outputs": [],
   "source": [
    "import yaml\n",
    "\n",
    "try:\n",
    "    # Load config.yaml\n",
    "    with open('config.yaml') as f:\n",
    "        config = yaml.safe_load(f)\n",
    "    \n",
    "    # Get subreddits from config\n",
    "    subreddits = config.get('subreddits', [])\n",
    "    if not subreddits:\n",
    "        raise ValueError(\"No subreddits found in config.yaml\")\n",
    "    \n",
    "    # Set default options\n",
    "    max_videos = \"3\"\n",
    "    skip_upload_flag = \"--skip_upload\"\n",
    "    \n",
    "    # Build command with all subreddits\n",
    "    subreddits_str = \" \".join(subreddits)\n",
    "    command = f\"python script.py {subreddits_str} --max_videos {max_videos} {skip_upload_flag}\"\n",
    "    \n",
    "    print(f\"\\nProcessing videos from subreddits: {', '.join(subreddits)}\")\n",
    "    print(f\"Executing: {command}\")\n",
    "    \n",
    "    !{command}\n",
    "    \n",
    "except Exception as e:\n",
    "    print(f\"Error loading configuration: {e}\")\n",
    "    print(\"Please ensure config.yaml exists and contains valid subreddit list\")"
   ]
  },
  {
   "cell_type": "markdown",
   "metadata": {},
   "source": [
    "## 5. Download Processed Videos\n",
    "\n",
    "If you've created videos and want to download them to your local machine, you can do that here."
   ]
  },
  {
   "cell_type": "code",
   "execution_count": null,
   "metadata": {},
   "outputs": [],
   "source": [
    "import glob\n",
    "from google.colab import files\n",
    "\n",
    "# Find output videos\n",
    "output_videos = glob.glob(\"temp_processing/*_final.mp4\")\n",
    "\n",
    "if output_videos:\n",
    "    print(f\"Found {len(output_videos)} processed videos:\")\n",
    "    for video in output_videos:\n",
    "        print(f\"- {os.path.basename(video)}\")\n",
    "    \n",
    "    download_choice = input(\"\\nDo you want to download these videos? (y/n): \").lower()\n",
    "    if download_choice == \"y\":\n",
    "        for video in output_videos:\n",
    "            try:\n",
    "                print(f\"Downloading {os.path.basename(video)}...\")\n",
    "                files.download(video)\n",
    "            except Exception as e:\n",
    "                print(f\"Error downloading {video}: {e}\")\n",
    "else:\n",
    "    print(\"No processed videos found in the temp_processing directory.\")"
   ]
  },
  {
   "cell_type": "markdown",
   "metadata": {},
   "source": [
    "## 6. Clean Up\n",
    "\n",
    "Optionally clean up temporary files to free up space."
   ]
  },
  {
   "cell_type": "code",
   "execution_count": null,
   "metadata": {},
   "outputs": [],
   "source": [
    "import shutil\n",
    "\n",
    "cleanup = input(\"Do you want to clean up temporary files? (y/n): \").lower()\n",
    "if cleanup == \"y\":\n",
    "    try:\n",
    "        files_removed = 0\n",
    "        if os.path.exists(\"temp_processing\"):\n",
    "            for file in glob.glob(\"temp_processing/*\"):\n",
    "                if not file.endswith(\"_final.mp4\"):  # Keep final videos\n",
    "                    os.remove(file)\n",
    "                    files_removed += 1\n",
    "        print(f\"Removed {files_removed} temporary files.\")\n",
    "    except Exception as e:\n",
    "        print(f\"Error during cleanup: {e}\")"
   ]
  },
  {
   "cell_type": "markdown",
   "metadata": {},
   "source": [
    "## Troubleshooting Guide\n",
    "\n",
    "If you encounter issues running the script in Colab, here are some common solutions:\n",
    "\n",
    "1. **Memory Issues**: If you get out-of-memory errors, try:\n",
    "\n",
    "   - Restart the runtime and rerun with fewer videos\n",
    "   - Upgrade to Colab Pro for more memory\n",
    "\n",
    "2. **GPU Acceleration**: To enable GPU acceleration:\n",
    "\n",
    "   - Go to Runtime → Change runtime type → Select GPU as Hardware accelerator\n",
    "\n",
    "3. **Authentication Issues**: For YouTube API authentication:\n",
    "\n",
    "   - Make sure your client_secrets.json is properly uploaded\n",
    "   - Follow the authentication link that appears in the output\n",
    "\n",
    "4. **Missing Dependencies**: If you get module not found errors:\n",
    "\n",
    "   - Rerun the dependency installation cell\n",
    "   - Check for specific error messages and install the missing package\n",
    "\n",
    "5. **File Permissions**: If you get permission errors:\n",
    "\n",
    "   - Ensure the ImageMagick policy configuration was successful\n",
    "   - Try running with simpler parameters (disable some features)"
   ]
  }
 ],
 "metadata": {
  "language_info": {
   "name": "python"
  }
 },
 "nbformat": 4,
 "nbformat_minor": 2
}